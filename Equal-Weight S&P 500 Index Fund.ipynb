{
 "cells": [
  {
   "cell_type": "markdown",
   "id": "5c05e641",
   "metadata": {},
   "source": [
    "So I decided to use two diffrent API for retriving markert data and for trading in orders. yfinance allows us to access a ton of stock metrics, over 200 infact, in a very simple way. Of corse the down side being that we can't subit orders or sell. For that we are going to use the alpaca-trade-api. Alpaca has a free tier version that allows us to sell and purchases stocks, but their stock mertrics are absoultuly horendus. You can only view 5 diffrent metrics, and you can't request any information about stocks\n",
    "within 15 minutes. Basicly your only allowed to viwe historical data witj alpaca. So these two api complement each other well and fill each api gaps. Great!\n",
    "\n",
    "# yfinance is not an official API\n",
    "yfinance mainly makes API calls to Yahoo Finance to gather it’s data, but it does occasionally employ HTML scraping and pandas tables scraping to unofficially gather the information off the Yahoo Finance website for some of it’s methods. As such, the functionality of some of it’s methods is at the mercy of Yahoo not changing the layout or design of some of their pages. In fact, yfinance is widely known to already have a few issues."
   ]
  },
  {
   "cell_type": "code",
   "execution_count": 1,
   "id": "26f7a2c0",
   "metadata": {},
   "outputs": [],
   "source": [
    "import numpy as np\n",
    "import pandas as pd\n",
    "import requests \n",
    "import xlsxwriter \n",
    "import math \n",
    "import alpaca_trade_api as alpaca\n",
    "import datetime as dt\n",
    "import pytz\n",
    "import yfinance as yf\n",
    "import threading\n",
    "import json\n",
    "import logging\n",
    "from alpaca_trade_api import TimeFrame\n",
    "from datetime import date\n",
    "from time import sleep "
   ]
  },
  {
   "cell_type": "markdown",
   "id": "20758dd0",
   "metadata": {},
   "source": [
    "# Retrieving the S&P 500\n",
    "I could use one of the avalible trading API to get a list of the index, but all the ones that offer that feature cost money. We could just import a CSV file of the list, but the index does occasionaly get updated. So I am just going to scrape wikipiedias page for the list of the current 500 companies, using pandas."
   ]
  },
  {
   "cell_type": "code",
   "execution_count": 2,
   "id": "6c937e34",
   "metadata": {},
   "outputs": [
    {
     "data": {
      "text/plain": [
       "0       MMM\n",
       "1       AOS\n",
       "2       ABT\n",
       "3      ABBV\n",
       "4      ABMD\n",
       "       ... \n",
       "498     YUM\n",
       "499    ZBRA\n",
       "500     ZBH\n",
       "501    ZION\n",
       "502     ZTS\n",
       "Name: Symbol, Length: 503, dtype: object"
      ]
     },
     "execution_count": 2,
     "metadata": {},
     "output_type": "execute_result"
    }
   ],
   "source": [
    "Wiki_List_URL = 'https://en.wikipedia.org/wiki/List_of_S%26P_500_companies'\n",
    "table = pd.read_html(Wiki_List_URL )\n",
    "stocks = table[0]['Symbol'] #input only the first table, and from the table we only want the ticker Symbol of each stock\n",
    "stocks"
   ]
  },
  {
   "cell_type": "code",
   "execution_count": 3,
   "id": "26b84eb6",
   "metadata": {
    "scrolled": true
   },
   "outputs": [],
   "source": [
    "\"\"\"\n",
    "This function takes any stock symbol or ticker and retrives metrics about it such as price, volume, marketCap, and other things.\n",
    "Like I mentioned in the introduction yfinance occasuionaly employs scraping. This can lead to inaccurate or wrong data.\n",
    "An example would berkshire hathaway stock. Althoguh this a public comapny with shares traded on NYSE exchange, yfinance \n",
    "will return none for all of its metrics.\n",
    "\"\"\"\n",
    "def get_stock_info(stock_ticker):\n",
    "#     if clock.is_open == False: # if the market is not open then their is not current price\n",
    "#         return \"Stock Market is not open\"\n",
    "    data = yf.Ticker(stock_ticker)\n",
    "    if data.info['marketCap'] == None: # if a comapny has none marketcap. it means yfiance could not find information about it\n",
    "        return \n",
    "    else:\n",
    "        stock_info = pd.DataFrame({'Price':data.info['currentPrice'], \n",
    "                                   'Market Capitalization':data.info['marketCap'], \n",
    "                                   'How much to buy':'N/A'},index = [stock_ticker])\n",
    "    return stock_info"
   ]
  },
  {
   "cell_type": "code",
   "execution_count": 4,
   "id": "353986db",
   "metadata": {},
   "outputs": [],
   "source": [
    "\"\"\"\n",
    "creates a table of all stock tickers and their corrosponding data in one table\n",
    "\"\"\"\n",
    "def table_of_stock_info(stock_list):\n",
    "#     if clock.is_open == False: # if the market is not open then their is not current price\n",
    "#         return \"Stock Market is not open\"\n",
    "    table_of_stock_info = pd.DataFrame() #initalizing our variable as pandas dataframe for later\n",
    "    for ticker in stock_list:\n",
    "        stock_info = get_stock_info(ticker) # we get the info from yfiniace \n",
    "        table_of_stock_info = pd.concat([stock_info,table_of_stock_info]) # merge info of current \n",
    "                                                                          #stock with dataframe of all other stocks\n",
    "    return table_of_stock_info\n",
    "    \n",
    "\n",
    "    \n"
   ]
  },
  {
   "cell_type": "code",
   "execution_count": 5,
   "id": "cbde5c35",
   "metadata": {},
   "outputs": [],
   "source": [
    "stock_info = table_of_stock_info(stocks[:2]) # We create a dataframe of data of all the stocks where intrested in\n",
    "stock_info.to_csv('stock_metrics', index = True) # we save it to csv file"
   ]
  },
  {
   "cell_type": "markdown",
   "id": "c024531f",
   "metadata": {},
   "source": [
    "# what's next?\n",
    "We basicly got a list of all s&p500 companies from wikipidea. next we used yfinace to gather information on each of these companies. We sorted our information and kept what we wanted, and then we created a list of all the comanies we gatherd info about and their metrics in one clean and orgaized pandas dateframe.\n",
    "\n",
    "Now we need to calcualte how much stock will be buying for each comapny or our postion size. We then can save this to a file or use the alpaca api to purchases them."
   ]
  },
  {
   "cell_type": "code",
   "execution_count": 6,
   "id": "25cb3531",
   "metadata": {},
   "outputs": [
    {
     "name": "stdout",
     "output_type": "stream",
     "text": [
      "Enter the value of your portfolio:\n",
      "That's not a number! \n",
      " Try again:\n",
      "Enter the value of your portfolio:100000\n"
     ]
    }
   ],
   "source": [
    "portfolio_size = input(\"Enter the value of your portfolio:\") # we ask the user for their inteded portfolio size\n",
    "while True:\n",
    "    try:\n",
    "        portfolio_size = float(portfolio_size)\n",
    "        break\n",
    "    except ValueError: # if the user types anything but an integer we tell them do type an integer\n",
    "        print(\"That's not a number! \\n Try again:\")\n",
    "        portfolio_size = input(\"Enter the value of your portfolio:\")\n",
    "    "
   ]
  },
  {
   "cell_type": "markdown",
   "id": "f27e7859",
   "metadata": {},
   "source": [
    "# calculate postion size and indivuial stocks purchases"
   ]
  },
  {
   "cell_type": "code",
   "execution_count": 7,
   "id": "381da1e8",
   "metadata": {},
   "outputs": [],
   "source": [
    "postion_size = portfolio_size / (len(stock_info)) # The amount of money we will be spending on each indiviudal comapny\n",
    "for i in stock_info.index: \n",
    "     stock_info.loc[i, 'How much to buy'] = math.floor(postion_size / stock_info['Price'][i]) # we calculate how much stock to \n",
    "                                                                                              # buy for each comapny\n",
    "    "
   ]
  },
  {
   "cell_type": "markdown",
   "id": "20e23335",
   "metadata": {},
   "source": [
    "# Set up Alpaca and begin trading\n",
    "After your done setting up your account and creating your api keys.Just fill in the details below. Just a heads up. I've hardcoded my API key and secret since I was testing Alpaca out with a paper trading account, and I have deactivided these since the publishing of this project on github. In a live environment, however, it is a good idea to take the extra security precaution of storing your authentication details in environment variables. This a good article that explain why and how.[How to set environment variables](https://www.twilio.com/blog/2017/01/how-to-set-environment-variables.html)"
   ]
  },
  {
   "cell_type": "code",
   "execution_count": 8,
   "id": "50bf3974",
   "metadata": {
    "scrolled": false
   },
   "outputs": [],
   "source": [
    "logging.basicConfig(\n",
    "    filename='errlog.log',\n",
    "    level=logging.WARNING,\n",
    "    format='%(asctime)s:%(levelname)s:%(message)s',\n",
    ")\n",
    "# authentication and connection details\n",
    "api_key ='fsidfsindfisudfbdsiuf'   #Insert_your_api_key_here\n",
    "api_secret ='oasdfnsadifn;isadfnasidfnslaidnf;sadnf'  #Insert_your_api_secret_here\n",
    "base_url ='https://paper-api.alpaca.markets'    #https://paper-api.alpaca.markets\n",
    "\n",
    "# instantiate REST API\n",
    "api = alpaca.REST(api_key, api_secret, base_url, api_version='v2')\n",
    "\n",
    "# obtain account information\n",
    "account = api.get_account()\n",
    "\n",
    "#initiate varibles used later on\n",
    "trade_msg = []\n",
    "order_msg = []\n",
    "past_trades = []\n",
    "\n",
    "searching_for_trade = False\n",
    "order_sent = False\n",
    "order_submitted = False\n",
    "active_trade = False\n",
    "done_for_the_day = False"
   ]
  },
  {
   "cell_type": "code",
   "execution_count": null,
   "id": "a77725df",
   "metadata": {},
   "outputs": [],
   "source": [
    "# we want to cancel all orders in case our script got interrupted for \n",
    "#whatever reason and we have to restart in the middle of a market day.\n",
    "# check if market is open\n",
    "# check if market is open\n",
    "api.cancel_all_orders()\n",
    "clock = api.get_clock()\n",
    "\n",
    "if clock.is_open:\n",
    "    pass\n",
    "else:\n",
    "    time_to_open = clock.next_open - clock.timestamp\n",
    "    sleep(time_to_open.total_seconds())\n",
    "\n",
    "if len(api.list_positions()) == 0:\n",
    "    searching_for_trade = True\n",
    "else:\n",
    "    active_trade = True\n",
    "\n",
    "# init WebSocket\n",
    "conn = tradeapi.stream2.StreamConn(api_key, api_secret, base_url)\n",
    "\n",
    "\n",
    "@conn.on(r'^account_updates$')\n",
    "async def on_account_updates(conn, channel, account):\n",
    "    order_msg.append(account)\n",
    "\n",
    "\n",
    "@conn.on(r'^trade_updates$')\n",
    "async def on_trade_updates(conn, channel, trade):\n",
    "    trade_msg.append(trade)\n",
    "    if 'fill' in trade.event:\n",
    "        past_trades.append(\n",
    "            [\n",
    "                trade.order['updated_at'],\n",
    "                trade.order['symbol'],\n",
    "                trade.order['side'],\n",
    "                trade.order['filled_qty'],\n",
    "                trade.order['filled_avg_price'],\n",
    "            ]\n",
    "        )\n",
    "        with open('past_trades.csv', 'w') as f:\n",
    "            json.dump(past_trades, f, indent=4)\n",
    "        print(past_trades[-1])\n",
    "\n",
    "\n",
    "def ws_start():\n",
    "    conn.run(['account_updates', 'trade_updates'])\n",
    "\n",
    "\n",
    "# start WebSocket in a thread\n",
    "ws_thread = threading.Thread(target=ws_start, daemon=True)\n",
    "ws_thread.start()\n",
    "sleep(10)\n",
    "\n",
    "\n",
    "# functions\n",
    "def time_to_market_close():\n",
    "    clock = api.get_clock()\n",
    "    closing = clock.next_close - clock.timestamp\n",
    "    return round(closing.total_seconds() / 60)\n",
    "\n",
    "\n",
    "def send_order(direction):\n",
    "    if time_to_market_close() > 20:\n",
    "        if direction == 'buy':\n",
    "            sl = high - range_size\n",
    "            tp = high + range_size\n",
    "        elif direction == 'sell':\n",
    "            sl = low + range_size\n",
    "            tp = low - range_size\n",
    "\n",
    "        api.submit_order(\n",
    "            symbol='AAPL',\n",
    "            qty=100,\n",
    "            side=direction,\n",
    "            type='market',\n",
    "            time_in_force='day',\n",
    "            order_class='bracket',\n",
    "            stop_loss=dict(stop_price=str(sl)),\n",
    "            take_profit=dict(limit_price=str(tp)),\n",
    "        )\n",
    "        return True, False\n",
    "\n",
    "    else:\n",
    "        return False, True\n",
    "\n",
    "\n",
    "# main loop\n",
    "while True:\n",
    "\n",
    "    try:\n",
    "\n",
    "        candlesticks = api.get_barset('AAPL', 'minute', limit=10)\n",
    "        high = candlesticks['AAPL'][0].h\n",
    "        low = candlesticks['AAPL'][0].l\n",
    "        range_size = high - low\n",
    "        if range_size / candlesticks['AAPL'][0].c < 0.003:\n",
    "            range_size = candlesticks['AAPL'][0].c * 0.003\n",
    "        for candle in candlesticks['AAPL']:\n",
    "            if candle.h > high:\n",
    "                high = candle.h\n",
    "            elif candle.l < low:\n",
    "                low = candle.l\n",
    "        range_size = high - low\n",
    "\n",
    "        while searching_for_trade:\n",
    "            clock = api.get_clock()\n",
    "            sleep(60 - clock.timestamp.second)\n",
    "            candlesticks = api.get_barset('AAPL', 'minute', limit=1)\n",
    "            if candlesticks['AAPL'][0].c > high:\n",
    "                searching_for_trade = False\n",
    "                order_sent, done_for_the_day = send_order('buy')\n",
    "\n",
    "            elif candlesticks['AAPL'][0].c < low:\n",
    "                searching_for_trade = False\n",
    "                order_sent, done_for_the_day = send_order('sell')\n",
    "\n",
    "        while order_sent:\n",
    "            sleep(1)\n",
    "            for item in trade_msg:\n",
    "                if item.event == 'new':\n",
    "                    order_submitted = True\n",
    "                    order_sent = False\n",
    "\n",
    "        while order_submitted:\n",
    "            sleep(1)\n",
    "            for item in trade_msg:\n",
    "                if item.order['filled_qty'] == '100':\n",
    "                    order_submitted = False\n",
    "                    active_trade = True\n",
    "                    trade_msg = []\n",
    "\n",
    "        while active_trade:\n",
    "            for i in range(time_to_market_close() - 5):\n",
    "                sleep(60)\n",
    "                if len(api.list_positions()) == 0:\n",
    "                    active_trade = False\n",
    "                    searching_for_trade = True\n",
    "                    break\n",
    "            if active_trade:\n",
    "                done_for_the_day = True\n",
    "                active_trade = False\n",
    "\n",
    "        while done_for_the_day:\n",
    "            api.close_all_positions()\n",
    "            clock = api.get_clock()\n",
    "            next_market_open = clock.next_open - clock.timestamp\n",
    "            sleep(next_market_open.total_seconds())\n",
    "            searching_for_trade = True\n",
    "\n",
    "    except Exception as e:\n",
    "        logging.exception(e)"
   ]
  },
  {
   "cell_type": "code",
   "execution_count": null,
   "id": "50a2eec7",
   "metadata": {},
   "outputs": [],
   "source": []
  }
 ],
 "metadata": {
  "kernelspec": {
   "display_name": "Python 3 (ipykernel)",
   "language": "python",
   "name": "python3"
  },
  "language_info": {
   "codemirror_mode": {
    "name": "ipython",
    "version": 3
   },
   "file_extension": ".py",
   "mimetype": "text/x-python",
   "name": "python",
   "nbconvert_exporter": "python",
   "pygments_lexer": "ipython3",
   "version": "3.9.12"
  }
 },
 "nbformat": 4,
 "nbformat_minor": 5
}
